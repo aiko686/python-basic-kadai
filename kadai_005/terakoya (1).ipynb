{
  "nbformat": 4,
  "nbformat_minor": 0,
  "metadata": {
    "colab": {
      "provenance": [],
      "gpuType": "T4"
    },
    "kernelspec": {
      "name": "python3",
      "display_name": "Python 3"
    },
    "language_info": {
      "name": "python"
    },
    "accelerator": "GPU"
  },
  "cells": [
    {
      "cell_type": "code",
      "source": [
        "#上辺：10cm\n",
        "#下辺：20cm\n",
        "#高さ：5cm\n",
        "\n",
        "#公式：台形の面積 =（上辺＋下辺）× 高さ ÷ 2\n",
        "\n",
        "jyouhen=10\n",
        "kahen=20\n",
        "takasa=5\n",
        "\n",
        "daikei=(jyouhen+kahen)*takasa/2\n",
        "\n",
        "print(str(daikei)+\"cm²\")\n",
        "\n"
      ],
      "metadata": {
        "colab": {
          "base_uri": "https://localhost:8080/"
        },
        "id": "T1TQDonwinnw",
        "outputId": "a06b07dc-5eb3-4131-988c-b2e03a9767b3"
      },
      "execution_count": 18,
      "outputs": [
        {
          "output_type": "stream",
          "name": "stdout",
          "text": [
            "75.0cm²\n"
          ]
        }
      ]
    }
  ]
}